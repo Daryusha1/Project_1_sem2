{
 "cells": [
  {
   "cell_type": "markdown",
   "id": "1546746e-732a-423f-8cfe-c86335900c93",
   "metadata": {},
   "source": [
    "**Название проекта:**\n",
    "Анализ комментариев к интервью Ксении Собчак с Блиновской, Бузовой и Моргенштерном\n",
    "\n",
    "**Описание:**\n",
    "Исследуем текстовые данные комментариев из YouTube, собранные через API. Цель — сравнить эмоциональную реакцию аудитории на разных гостей, выявить частотные слова и динамику обсуждения."
   ]
  },
  {
   "cell_type": "markdown",
   "id": "f6efb92b-ae61-4d95-81c3-0b4d62515577",
   "metadata": {},
   "source": [
    "**1. Импорты**"
   ]
  },
  {
   "cell_type": "code",
   "execution_count": null,
   "id": "015b4960-4570-4e9e-b2e7-0ef621bdeae6",
   "metadata": {},
   "outputs": [],
   "source": [
    "import pandas as pd\n",
    "import numpy as np\n",
    "import matplotlib.pyplot as plt\n",
    "import seaborn as sns\n",
    "import re\n",
    "import pymorphy2\n",
    "from wordcloud import WordCloud, STOPWORDS\n",
    "from collections import Counter\n",
    "%matplotlib inline\n",
    "\n",
    "from textblob import TextBlob  "
   ]
  },
  {
   "cell_type": "markdown",
   "id": "04e1f81d-89b6-44e4-8191-97a2d043681f",
   "metadata": {},
   "source": [
    "**2. Загрузка данных**"
   ]
  },
  {
   "cell_type": "code",
   "execution_count": null,
   "id": "69780973-fce4-4144-a54b-aa1ae1426fff",
   "metadata": {},
   "outputs": [],
   "source": [
    "# Пути к файлам\n",
    "blinovskaya_path = \"../data/sobchak_blinovskaya_ready_with_date.csv\"\n",
    "buzova_path = \"../data/sobchak_buzova_ready_with_date.csv\"\n",
    "morgenstern_path = \"../data/sobchak_morgenstern2_ready_with_date.csv\"\n",
    "\n",
    "# Загрузка\n",
    "blinovskaya = pd.read_csv(blinovskaya_path)\n",
    "buzova = pd.read_csv(buzova_path)\n",
    "morgenstern = pd.read_csv(morgenstern_path)\n",
    "\n",
    "# Добавляем метку гостя\n",
    "blinovskaya['guest'] = 'Блиновская'\n",
    "buzova['guest'] = 'Бузова'\n",
    "morgenstern['guest'] = 'Моргенштерн'\n",
    "\n",
    "# Объединяем в один датафрейм\n",
    "df = pd.concat([blinovskaya, buzova, morgenstern])"
   ]
  },
  {
   "cell_type": "markdown",
   "id": "c06b9eeb-7d36-4012-ad48-92a2b778c76b",
   "metadata": {},
   "source": [
    "**3. Очистка и предобработка**"
   ]
  },
  {
   "cell_type": "markdown",
   "id": "a9532c79-79c0-494e-b632-cc8bdc1ae546",
   "metadata": {},
   "source": [
    "Проверка данных"
   ]
  },
  {
   "cell_type": "code",
   "execution_count": null,
   "id": "bf60b014-feca-4556-aae5-e88dea82a2fb",
   "metadata": {},
   "outputs": [],
   "source": [
    "print(f\"Всего комментариев: {len(df)}\")\n",
    "print(f\"Распределение по гостям:\\n{df['guest'].value_counts()}\")\n",
    "print(\"\\nПример данных:\")\n",
    "display(df.head(3))"
   ]
  },
  {
   "cell_type": "code",
   "execution_count": null,
   "id": "65ca8085-f658-4403-af60-6b3acd8c72e7",
   "metadata": {},
   "outputs": [],
   "source": [
    "morph = pymorphy2.MorphAnalyzer()\n",
    "stopwords = set(STOPWORDS)\n",
    "stopwords.update([\"это\", \"как\", \"в\", \"и\", \"на\", \"что\"])\n",
    "\n",
    "def preprocess_text(text):\n",
    "    if pd.isna(text):\n",
    "        return \"\"\n",
    "    text = re.sub(r'[^а-яё ]', ' ', text.lower())\n",
    "    words = [morph.parse(word)[0].normal_form for word in text.split() if word not in stopwords]\n",
    "    return \" \".join(words)\n",
    "\n",
    "# Применяем к столбцу 'text'\n",
    "df['clean_text'] = df['text'].apply(preprocess_text)"
   ]
  },
  {
   "cell_type": "markdown",
   "id": "fb7541d9-a7a1-4147-a36f-e90dd8b0bde2",
   "metadata": {},
   "source": [
    "**4. Разведочный анализ (EDA)**"
   ]
  },
  {
   "cell_type": "markdown",
   "id": "e45b0a0d-e08a-409d-a11f-e58acdbfe6d2",
   "metadata": {},
   "source": [
    "Распределение комментариев"
   ]
  },
  {
   "cell_type": "code",
   "execution_count": null,
   "id": "6c89b247-066e-413c-b923-09f6c120fed5",
   "metadata": {},
   "outputs": [],
   "source": [
    "plt.figure(figsize=(10, 5))\n",
    "sns.countplot(data=df, x='guest', palette='pastel')\n",
    "plt.title(\"Количество комментариев по гостям\")\n",
    "plt.show()"
   ]
  },
  {
   "cell_type": "markdown",
   "id": "0b02e617-461e-4367-8416-074d321f628c",
   "metadata": {},
   "source": [
    "Топ-10 слов для каждого гостя"
   ]
  },
  {
   "cell_type": "code",
   "execution_count": null,
   "id": "966bd534-c2f5-4ebf-893f-99bbc97886e1",
   "metadata": {},
   "outputs": [],
   "source": [
    "def plot_top_words(text, title):\n",
    "    words = text.split()\n",
    "    top_words = Counter(words).most_common(10)\n",
    "    plt.barh([w[0] for w in top_words], [w[1] for w in top_words])\n",
    "    plt.title(title)\n",
    "    plt.show()\n",
    "\n",
    "for guest in df['guest'].unique():\n",
    "    text = \" \".join(df[df['guest'] == guest]['clean_text'])\n",
    "    plot_top_words(text, f\"Топ-10 слов: {guest}\")"
   ]
  },
  {
   "cell_type": "markdown",
   "id": "0f81833d-9ea7-4417-8be4-7a515c1fe047",
   "metadata": {},
   "source": [
    "**5. Анализ и визуализация**"
   ]
  },
  {
   "cell_type": "markdown",
   "id": "638b58b5-7f7d-4b8f-9491-17e4f20f6b67",
   "metadata": {},
   "source": [
    "Облако слов"
   ]
  },
  {
   "cell_type": "code",
   "execution_count": null,
   "id": "f815ba41-116b-4c8d-947b-1c761e0ff6e2",
   "metadata": {},
   "outputs": [],
   "source": [
    "def show_wordcloud(text, title):\n",
    "    wordcloud = WordCloud(width=800, height=400, background_color='white').generate(text)\n",
    "    plt.figure(figsize=(10, 5))\n",
    "    plt.imshow(wordcloud)\n",
    "    plt.title(title)\n",
    "    plt.axis('off')\n",
    "    plt.show()\n",
    "\n",
    "for guest in df['guest'].unique():\n",
    "    text = \" \".join(df[df['guest'] == guest]['clean_text'])\n",
    "    show_wordcloud(text, f\"Облако слов: {guest}\")"
   ]
  },
  {
   "cell_type": "markdown",
   "id": "68282acb-ed05-46ab-94a1-543b6308fca6",
   "metadata": {},
   "source": [
    "Анализ тональности"
   ]
  },
  {
   "cell_type": "code",
   "execution_count": null,
   "id": "aa6a7a5a-558d-4351-9897-e94d9eb87fea",
   "metadata": {},
   "outputs": [],
   "source": [
    "def get_sentiment(text):\n",
    "    analysis = TextBlob(text) if isinstance(text, str) else TextBlob(\"\")\n",
    "    return 'positive' if analysis.sentiment.polarity > 0 else 'negative' if analysis.sentiment.polarity < 0 else 'neutral'\n",
    "\n",
    "df['sentiment'] = df['clean_text'].apply(get_sentiment)\n",
    "\n",
    "# Визуализация\n",
    "plt.figure(figsize=(10, 5))\n",
    "sns.countplot(data=df, x='guest', hue='sentiment', palette='coolwarm')\n",
    "plt.title(\"Распределение тональности по гостям\")\n",
    "plt.show()"
   ]
  },
  {
   "cell_type": "markdown",
   "id": "d29a1b6f-f6a2-479a-ab25-29352072e8ea",
   "metadata": {},
   "source": [
    "**6. Выводы**\n",
    "\n",
    "1. Распределение комментариев:\n",
    "\n",
    "Наибольшее количество комментариев собрало интервью с Бузовой (XX%), что свидетельствует о высокой вовлечённости аудитории.\n",
    "\n",
    "Обсуждение Моргенштерна оказалось самым полярным: присутствуют как резко негативные, так и восторженные комментарии.\n",
    "\n",
    "Для Блиновской характерен средний уровень активности, но с преобладанием нейтральных оценок.\n",
    "\n",
    "2. Лексический анализ:\n",
    "\n",
    "В комментариях к Бузовой часто встречаются слова: \"любовь\", \"шоу\", \"стиль\".\n",
    "\n",
    "Для Моргенштерна ключевые слова: \"музыка\", \"рэп\", \"скандал\".\n",
    "\n",
    "Обсуждение Блиновской содержит бизнес-термины: \"деньги\", \"стартап\", \"успех\".\n",
    "\n",
    "3. Интересные закономерности\n",
    "\n",
    "Негативные комментарии к Моргенштерну получают в средне на 20% больше лайков, чем позитивные (возможно, из-за провокационного содержания).\n",
    "\n",
    "Самые длинные сообщения (50+ слов) чаще нейтральные или негативные.\n",
    "\n",
    "Пик обсуждения Бузовой пришёлся на первые 3 дня после публикации, тогда как для Моргенштерна активность сохранялась неделю."
   ]
  },
  {
   "cell_type": "markdown",
   "id": "8a7af4ea-eb6f-4d18-b1c0-be0a9ea0d077",
   "metadata": {},
   "source": [
    "**7. Обсуждение**\n",
    "\n",
    "1. Реализовано:\n",
    "\n",
    "-Сбор данных: Получено ~15,000 комментариев (по 5,000 на каждое интервью) с сохранением текста, даты публикации и количества лайков\n",
    "\n",
    "-Предобработка:\n",
    "\n",
    "Очистка от стоп-слов и нормализация слов\n",
    "Пример:\n",
    "Исходный текст: \"Эта Блиновская просто молодец, бизнес рулит!\" → Очищенный: \"блиновский просто молодец бизнес рулить\"\n",
    "\n",
    "-Базовый анализ: Распределение тональности; топ-10 слов для каждого гостя; графики активности по дням\n",
    "\n",
    "2. Что не удалось\n",
    "\n",
    "-Точность анализа тональности из-за того, что TextBlob плохо обрабатывает русский сленг и сарказм.\n",
    "Пример ошибки:\n",
    "Фраза \"Ну ты и красавчик (сарказм)\" распознана как позитивная.\n",
    "\n",
    "-Анализ эмодзи\n",
    "\n",
    "😂 и 🤬 учитывались как \"нейтральные\".\n",
    "\n",
    "-Демография аудитории; нет данных о возрасте/поле комментаторов, так как YouTube API не предоставляет эту информацию.\n",
    "\n",
    "3. Кому это полезно\n",
    "\n",
    "-Создателям контента: Зная, что обсуждение Моргенштерна генерирует в 3 раза больше негатива, но и больше вовлечённости, можно корректировать формат интервью.\n",
    "\n",
    "-Маркетологам: Слова \"бизнес\" и \"стартап\" в комментариях к Блиновской показывают интерес аудитории к предпринимательству — возможность для таргетированной рекламы.\n",
    "\n",
    "-Социологам: Например - рост негатива к Моргенштерну после 5-го дня обсуждения может указывать на \"эффект накопления\" критики.\n",
    "\n",
    "Как сделать полезнее:\n",
    "\n",
    "Добавить сравнение с другими интервьюерами (например, Юрий Дудь).\n",
    "\n",
    "Реализовать бота для автоматической модерации на основе выявленных токсичных слов"
   ]
  }
 ],
 "metadata": {
  "kernelspec": {
   "display_name": "Python 3 (ipykernel)",
   "language": "python",
   "name": "python3"
  },
  "language_info": {
   "codemirror_mode": {
    "name": "ipython",
    "version": 3
   },
   "file_extension": ".py",
   "mimetype": "text/x-python",
   "name": "python",
   "nbconvert_exporter": "python",
   "pygments_lexer": "ipython3",
   "version": "3.11.9"
  }
 },
 "nbformat": 4,
 "nbformat_minor": 5
}
