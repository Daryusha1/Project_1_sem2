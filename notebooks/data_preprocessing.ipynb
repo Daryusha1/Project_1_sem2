{
 "cells": [
  {
   "cell_type": "code",
   "execution_count": null,
   "id": "84983e8e-71ff-485e-9d5c-f2922fccf5bb",
   "metadata": {},
   "outputs": [],
   "source": [
    "import pandas as pd\n",
    "import re\n",
    "import pymorphy2\n",
    "from wordcloud import STOPWORDS"
   ]
  },
  {
   "cell_type": "code",
   "execution_count": null,
   "id": "c7602f50-7746-47f6-a265-78fb48408a9e",
   "metadata": {},
   "outputs": [],
   "source": [
    "# Инициализация морфологического анализатора\n",
    "morph = pymorphy2.MorphAnalyzer()\n",
    "\n",
    "# Стоп-слова\n",
    "russian_stopwords = set(STOPWORDS)\n",
    "russian_stopwords.update([\n",
    "    \"это\", \"как\", \"в\", \"на\", \"я\", \"с\", \"что\", \"он\", \"она\", \"мы\", \"вы\", \"у\",\n",
    "    \"к\", \"от\", \"до\", \"за\", \"по\", \"из\", \"под\", \"без\", \"для\", \"и\", \"но\", \"да\",\n",
    "    \"или\", \"то\", \"же\", \"бы\", \"быть\", \"их\", \"так\", \"тоже\", \"очень\", \"еще\"\n",
    "])\n",
    "\n",
    "# Функция предобработки текста\n",
    "def preprocess_text(text):\n",
    "    if pd.isna(text):\n",
    "        return \"\"\n",
    "    text = text.lower()\n",
    "    text = re.sub(r'[^а-яё ]', ' ', text)\n",
    "    words = text.split()\n",
    "    cleaned_words = []\n",
    "    for word in words:\n",
    "        if word not in russian_stopwords:\n",
    "            lemma = morph.parse(word)[0].normal_form\n",
    "            if lemma not in russian_stopwords:\n",
    "                cleaned_words.append(lemma)\n",
    "    return \" \".join(cleaned_words)"
   ]
  },
  {
   "cell_type": "code",
   "execution_count": null,
   "id": "90fb6ce9-10e1-42b9-88b1-b49017ba2829",
   "metadata": {},
   "outputs": [],
   "source": [
    "# Пути к данным\n",
    "blinovskaya_path = \"../data/sobchak_blinovskaya_ready_with_date.csv\"\n",
    "buzova_path = \"../data/sobchak_buzova_ready_with_date.csv\"\n",
    "morgenstern_path = \"../data/sobchak_morgenstern2_ready_with_date.csv\"\n",
    "\n",
    "# Загрузка данных\n",
    "blinovskaya_df = pd.read_csv(blinovskaya_path)\n",
    "buzova_df = pd.read_csv(buzova_path)\n",
    "morgenstern_df = pd.read_csv(morgenstern_path)\n",
    "\n",
    "# Применяем предобработку к колонке \"text\"\n",
    "blinovskaya_df['clean_text'] = blinovskaya_df['text'].apply(preprocess_text)\n",
    "buzova_df['clean_text'] = buzova_df['text'].apply(preprocess_text)\n",
    "morgenstern_df['clean_text'] = morgenstern_df['text'].apply(preprocess_text)\n",
    "\n",
    "# Мини-проверка (первые 3 строки каждого датафрейма)\n",
    "print(\"Первые строки Блиновская:\")\n",
    "display(blinovskaya_df[['text', 'clean_text']].head(3))\n",
    "\n",
    "print(\"Первые строки Бузова:\")\n",
    "display(buzova_df[['text', 'clean_text']].head(3))\n",
    "\n",
    "print(\"Первые строки Моргенштерн:\")\n",
    "display(morgenstern_df[['text', 'clean_text']].head(3))"
   ]
  }
 ],
 "metadata": {
  "kernelspec": {
   "display_name": "Python 3 (ipykernel)",
   "language": "python",
   "name": "python3"
  },
  "language_info": {
   "codemirror_mode": {
    "name": "ipython",
    "version": 3
   },
   "file_extension": ".py",
   "mimetype": "text/x-python",
   "name": "python",
   "nbconvert_exporter": "python",
   "pygments_lexer": "ipython3",
   "version": "3.11.9"
  }
 },
 "nbformat": 4,
 "nbformat_minor": 5
}
