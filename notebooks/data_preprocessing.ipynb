{
 "cells": [
  {
   "cell_type": "code",
   "execution_count": null,
   "id": "84983e8e-71ff-485e-9d5c-f2922fccf5bb",
   "metadata": {},
   "outputs": [],
   "source": [
    "import pandas as pd"
   ]
  },
  {
   "cell_type": "code",
   "execution_count": null,
   "id": "c7602f50-7746-47f6-a265-78fb48408a9e",
   "metadata": {},
   "outputs": [],
   "source": [
    "# Пути к файлам\n",
    "files = {\n",
    "    \"Блиновская\": \"../data/sobchak_blinovskaya_ready_with_date.csv\",\n",
    "    \"Бузова\": \"../data/sobchak_buzova_ready_with_date.csv\",\n",
    "    \"Моргенштерн\": \"../data/sobchak_morgenstern2_ready_with_date.csv\"\n",
    "}"
   ]
  },
  {
   "cell_type": "code",
   "execution_count": null,
   "id": "154e5355-d12a-48b3-919e-af9723c50ec6",
   "metadata": {},
   "outputs": [],
   "source": [
    "# Загрузка файлов в отдельные датафреймы\n",
    "dfs = {}\n",
    "\n",
    "for name, path in files.items():\n",
    "    dfs[name] = pd.read_csv(path)\n",
    "    print(f\"✅ Загружено: {name} ({len(dfs[name])} комментариев)\")"
   ]
  },
  {
   "cell_type": "code",
   "execution_count": null,
   "id": "90fb6ce9-10e1-42b9-88b1-b49017ba2829",
   "metadata": {},
   "outputs": [],
   "source": [
    "# Пример вывода первых строк каждого датасета\n",
    "for name, df in dfs.items():\n",
    "    print(f\"\\n🔹 {name}\")\n",
    "    display(df.head(3))"
   ]
  }
 ],
 "metadata": {
  "kernelspec": {
   "display_name": "Python 3 (ipykernel)",
   "language": "python",
   "name": "python3"
  },
  "language_info": {
   "codemirror_mode": {
    "name": "ipython",
    "version": 3
   },
   "file_extension": ".py",
   "mimetype": "text/x-python",
   "name": "python",
   "nbconvert_exporter": "python",
   "pygments_lexer": "ipython3",
   "version": "3.11.9"
  }
 },
 "nbformat": 4,
 "nbformat_minor": 5
}
